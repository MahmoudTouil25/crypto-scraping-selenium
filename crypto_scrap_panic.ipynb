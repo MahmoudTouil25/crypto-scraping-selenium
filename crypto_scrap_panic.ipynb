{
 "cells": [
  {
   "cell_type": "code",
   "execution_count": 1,
   "id": "24da9b11-980c-4c5b-91d9-a4e4a21f6892",
   "metadata": {},
   "outputs": [
    {
     "name": "stderr",
     "output_type": "stream",
     "text": [
      "[nltk_data] Downloading package vader_lexicon to\n",
      "[nltk_data]     C:\\Users\\mahmo\\AppData\\Roaming\\nltk_data...\n"
     ]
    },
    {
     "data": {
      "text/plain": [
       "True"
      ]
     },
     "execution_count": 1,
     "metadata": {},
     "output_type": "execute_result"
    }
   ],
   "source": [
    "import nltk\n",
    "nltk.download('vader_lexicon')\n"
   ]
  },
  {
   "cell_type": "code",
   "execution_count": 3,
   "id": "257264b1-f5a4-4f60-816d-bd86d2cf9c20",
   "metadata": {},
   "outputs": [],
   "source": [
    "from selenium import webdriver\n",
    "from selenium.webdriver.chrome.service import Service\n",
    "from webdriver_manager.chrome import ChromeDriverManager\n",
    "from selenium.webdriver.common.by import By\n",
    "import time\n",
    "import pandas as pd\n",
    "\n",
    "# Initialize Chrome driver\n",
    "driver = webdriver.Chrome(service=Service(ChromeDriverManager().install()))\n",
    "\n",
    "# Open the CryptoPanic website\n",
    "driver.get(\"https://cryptopanic.com\")\n",
    "\n",
    "# Allow time for the page to load (adjust as needed)\n",
    "time.sleep(5)\n"
   ]
  },
  {
   "cell_type": "code",
   "execution_count": 7,
   "id": "f3be4e24-2a9e-49fb-9340-a736e2d05045",
   "metadata": {},
   "outputs": [
    {
     "data": {
      "text/html": [
       "<div>\n",
       "<style scoped>\n",
       "    .dataframe tbody tr th:only-of-type {\n",
       "        vertical-align: middle;\n",
       "    }\n",
       "\n",
       "    .dataframe tbody tr th {\n",
       "        vertical-align: top;\n",
       "    }\n",
       "\n",
       "    .dataframe thead th {\n",
       "        text-align: right;\n",
       "    }\n",
       "</style>\n",
       "<table border=\"1\" class=\"dataframe\">\n",
       "  <thead>\n",
       "    <tr style=\"text-align: right;\">\n",
       "      <th></th>\n",
       "      <th>date</th>\n",
       "      <th>title</th>\n",
       "      <th>link</th>\n",
       "      <th>currency_info</th>\n",
       "    </tr>\n",
       "  </thead>\n",
       "  <tbody>\n",
       "    <tr>\n",
       "      <th>0</th>\n",
       "      <td>24min</td>\n",
       "      <td>Le gouvernement salvadorien veut poursuivre so...</td>\n",
       "      <td>https://cryptopanic.com/news/20641557/Le-gouve...</td>\n",
       "      <td>BTC</td>\n",
       "    </tr>\n",
       "    <tr>\n",
       "      <th>1</th>\n",
       "      <td>27min</td>\n",
       "      <td>Binance Partners with xMoney to Expand Crypto ...</td>\n",
       "      <td>https://cryptopanic.com/news/20641544/Binance-...</td>\n",
       "      <td>None</td>\n",
       "    </tr>\n",
       "    <tr>\n",
       "      <th>2</th>\n",
       "      <td>30min</td>\n",
       "      <td>Solana Stablecoin TVL Doubles on TRUMP Frenzy:...</td>\n",
       "      <td>https://cryptopanic.com/news/20641546/Solana-S...</td>\n",
       "      <td>SOL TRUMP TRUMP …</td>\n",
       "    </tr>\n",
       "    <tr>\n",
       "      <th>3</th>\n",
       "      <td>36min</td>\n",
       "      <td>Crypto &amp; Bourse : ce qu’il ne faut pas manquer...</td>\n",
       "      <td>https://cryptopanic.com/news/20641525/Crypto-B...</td>\n",
       "      <td>None</td>\n",
       "    </tr>\n",
       "    <tr>\n",
       "      <th>4</th>\n",
       "      <td>36min</td>\n",
       "      <td>Trader Nets Nearly $16 Million on Ethereum Sho...</td>\n",
       "      <td>https://cryptopanic.com/news/20641501/Trader-N...</td>\n",
       "      <td>ETH</td>\n",
       "    </tr>\n",
       "  </tbody>\n",
       "</table>\n",
       "</div>"
      ],
      "text/plain": [
       "    date                                              title  \\\n",
       "0  24min  Le gouvernement salvadorien veut poursuivre so...   \n",
       "1  27min  Binance Partners with xMoney to Expand Crypto ...   \n",
       "2  30min  Solana Stablecoin TVL Doubles on TRUMP Frenzy:...   \n",
       "3  36min  Crypto & Bourse : ce qu’il ne faut pas manquer...   \n",
       "4  36min  Trader Nets Nearly $16 Million on Ethereum Sho...   \n",
       "\n",
       "                                                link      currency_info  \n",
       "0  https://cryptopanic.com/news/20641557/Le-gouve...                BTC  \n",
       "1  https://cryptopanic.com/news/20641544/Binance-...               None  \n",
       "2  https://cryptopanic.com/news/20641546/Solana-S...  SOL TRUMP TRUMP …  \n",
       "3  https://cryptopanic.com/news/20641525/Crypto-B...               None  \n",
       "4  https://cryptopanic.com/news/20641501/Trader-N...                ETH  "
      ]
     },
     "execution_count": 7,
     "metadata": {},
     "output_type": "execute_result"
    }
   ],
   "source": [
    "# Find all news rows\n",
    "news_rows = driver.find_elements(By.CSS_SELECTOR, \"div.news-row.news-row-link\")\n",
    "\n",
    "# Prepare a list to store scraped records\n",
    "records = []\n",
    "\n",
    "for row in news_rows:\n",
    "    # 1) Extract the date\n",
    "    try:\n",
    "        date_elem = row.find_element(By.CSS_SELECTOR, \"a.news-cell.nc-date\")\n",
    "        date_text = date_elem.text.strip()\n",
    "    except:\n",
    "        date_text = None  # or \"\"\n",
    "\n",
    "    # 2) Extract the title\n",
    "    try:\n",
    "        title_elem = row.find_element(By.CSS_SELECTOR, \"a.news-cell.nc-title\")\n",
    "        title_text = title_elem.text.strip()\n",
    "    except:\n",
    "        title_text = None  # or \"\"\n",
    "\n",
    "    # 3) Extract the news link from the title element (href)\n",
    "    try:\n",
    "        link = title_elem.get_attribute(\"href\")\n",
    "    except:\n",
    "        link = None\n",
    "\n",
    "    # 4) (Optional) Extract currency info\n",
    "    try:\n",
    "        currency_elem = row.find_element(By.CSS_SELECTOR, \"div.news-cell.nc-currency\")\n",
    "        currency_text = currency_elem.text.strip()\n",
    "    except:\n",
    "        currency_text = None\n",
    "\n",
    "    # Store the extracted info in a dictionary\n",
    "    record = {\n",
    "        \"date\": date_text,\n",
    "        \"title\": title_text,\n",
    "        \"link\": link,\n",
    "        \"currency_info\": currency_text\n",
    "    }\n",
    "    records.append(record)\n",
    "\n",
    "# Convert the list of records to a DataFrame\n",
    "df = pd.DataFrame(records)\n",
    "df.head()\n"
   ]
  },
  {
   "cell_type": "code",
   "execution_count": 8,
   "id": "05ba8b90-6d4b-44d2-9513-4709793eb73a",
   "metadata": {},
   "outputs": [],
   "source": [
    "driver.quit()\n"
   ]
  },
  {
   "cell_type": "code",
   "execution_count": 9,
   "id": "e2872d74-68b1-4023-8372-79a530792901",
   "metadata": {},
   "outputs": [],
   "source": [
    "# Compute the number of words in the title\n",
    "df['title_word_count'] = df['title'].apply(lambda x: len(x.split()))\n"
   ]
  },
  {
   "cell_type": "code",
   "execution_count": 10,
   "id": "f2caa429-9831-4b4c-8171-105254646599",
   "metadata": {},
   "outputs": [
    {
     "name": "stdout",
     "output_type": "stream",
     "text": [
      "                                               title  title_word_count  \\\n",
      "0  Le gouvernement salvadorien veut poursuivre so...                11   \n",
      "1  Binance Partners with xMoney to Expand Crypto ...                 9   \n",
      "2  Solana Stablecoin TVL Doubles on TRUMP Frenzy:...                 9   \n",
      "3  Crypto & Bourse : ce qu’il ne faut pas manquer...                19   \n",
      "4  Trader Nets Nearly $16 Million on Ethereum Sho...                10   \n",
      "\n",
      "   sentiment  \n",
      "0     0.0000  \n",
      "1     0.3182  \n",
      "2    -0.3182  \n",
      "3     0.0000  \n",
      "4     0.0000  \n"
     ]
    }
   ],
   "source": [
    "from nltk.sentiment.vader import SentimentIntensityAnalyzer\n",
    "\n",
    "# Initialize the VADER sentiment analyzer\n",
    "sia = SentimentIntensityAnalyzer()\n",
    "\n",
    "# Compute the compound sentiment score for each title\n",
    "df['sentiment'] = df['title'].apply(lambda text: sia.polarity_scores(text)['compound'])\n",
    "\n",
    "# Inspect the updated DataFrame\n",
    "print(df[['title', 'title_word_count', 'sentiment']].head())\n"
   ]
  },
  {
   "cell_type": "code",
   "execution_count": 11,
   "id": "987352db-006e-4c9d-93ef-e0c219c4edde",
   "metadata": {},
   "outputs": [],
   "source": [
    "from sklearn.preprocessing import StandardScaler\n",
    "\n",
    "# Select features\n",
    "features = ['title_word_count', 'sentiment']\n",
    "X = df[features].dropna()\n",
    "\n",
    "# Standardize the data\n",
    "scaler = StandardScaler()\n",
    "X_scaled = scaler.fit_transform(X)\n"
   ]
  },
  {
   "cell_type": "code",
   "execution_count": 12,
   "id": "52aed7df-d791-44a6-81ab-e9b34739ae63",
   "metadata": {},
   "outputs": [
    {
     "name": "stdout",
     "output_type": "stream",
     "text": [
      "Explained Variance Ratio: [0.59486488 0.40513512]\n"
     ]
    }
   ],
   "source": [
    "from sklearn.decomposition import PCA\n",
    "import matplotlib.pyplot as plt\n",
    "import seaborn as sns\n",
    "\n",
    "# Run PCA to reduce to 2 components for visualization\n",
    "pca = PCA(n_components=2)\n",
    "principalComponents = pca.fit_transform(X_scaled)\n",
    "\n",
    "# Create a DataFrame with the principal components\n",
    "df_pca = pd.DataFrame(data=principalComponents, columns=['PC1', 'PC2'])\n",
    "\n",
    "# Display explained variance ratios\n",
    "print(\"Explained Variance Ratio:\", pca.explained_variance_ratio_)\n"
   ]
  },
  {
   "cell_type": "code",
   "execution_count": 13,
   "id": "dd44ac44-f912-4982-8f25-d39504129c68",
   "metadata": {},
   "outputs": [
    {
     "data": {
      "image/png": "[encoded data removed]",
      "text/plain": [
       "<Figure size 800x600 with 1 Axes>"
      ]
     },
     "metadata": {},
     "output_type": "display_data"
    }
   ],
   "source": [
    "plt.figure(figsize=(8, 6))\n",
    "sns.scatterplot(x='PC1', y='PC2', data=df_pca, s=100)\n",
    "plt.title(\"PCA of CryptoPanic News Metrics\")\n",
    "plt.xlabel(\"Principal Component 1\")\n",
    "plt.ylabel(\"Principal Component 2\")\n",
    "plt.grid(True)\n",
    "plt.show()\n"
   ]
  }
 ],
 "metadata": {
  "kernelspec": {
   "display_name": "Python 3 (ipykernel)",
   "language": "python",
   "name": "python3"
  },
  "language_info": {
   "codemirror_mode": {
    "name": "ipython",
    "version": 3
   },
   "file_extension": ".py",
   "mimetype": "text/x-python",
   "name": "python",
   "nbconvert_exporter": "python",
   "pygments_lexer": "ipython3",
   "version": "3.11.9"
  }
 },
 "nbformat": 4,
 "nbformat_minor": 5
}
